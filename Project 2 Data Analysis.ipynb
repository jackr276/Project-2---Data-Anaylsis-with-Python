{
 "cells": [
  {
   "cell_type": "markdown",
   "id": "daee6536",
   "metadata": {},
   "source": [
    "# Jack Robbins\n",
    "## Project 2 Data Analysis"
   ]
  },
  {
   "cell_type": "markdown",
   "id": "32be2b6f",
   "metadata": {},
   "source": [
    "Import all needed libraries"
   ]
  },
  {
   "cell_type": "code",
   "execution_count": 1,
   "id": "c3596fa4",
   "metadata": {},
   "outputs": [],
   "source": [
    "import pandas as pd\n",
    "import matplotlib.pyplot as plt\n",
    "import math\n",
    "import statistics as stats\n",
    "import numpy as np"
   ]
  },
  {
   "cell_type": "markdown",
   "id": "63686182",
   "metadata": {},
   "source": [
    "Bring the cleaned csv files back in as dataframes"
   ]
  },
  {
   "cell_type": "code",
   "execution_count": 2,
   "id": "d3c72f32",
   "metadata": {},
   "outputs": [],
   "source": [
    "entry_survey = pd.read_csv(\"cleaned_entry_survey.csv\")\n",
    "literacy_survey = pd.read_csv(\"cleaned_literacy_survey.csv\")"
   ]
  },
  {
   "cell_type": "markdown",
   "id": "8ebf9467",
   "metadata": {},
   "source": [
    "1.) For the first observation, let's compare the racial makeup between the literacy and entry computing classes and try to get an insight into what the differences are."
   ]
  },
  {
   "cell_type": "markdown",
   "id": "f663152f",
   "metadata": {},
   "source": [
    "Let's look at the racial makeup of students taking entry level computing classes with a pie chart"
   ]
  },
  {
   "cell_type": "code",
   "execution_count": 3,
   "id": "69eeab05",
   "metadata": {},
   "outputs": [
    {
     "data": {
      "text/plain": [
       "([<matplotlib.patches.Wedge at 0x133d79af0>,\n",
       "  <matplotlib.patches.Wedge at 0x133d79fd0>,\n",
       "  <matplotlib.patches.Wedge at 0x133d8f460>,\n",
       "  <matplotlib.patches.Wedge at 0x133d8f940>,\n",
       "  <matplotlib.patches.Wedge at 0x133d8fe20>,\n",
       "  <matplotlib.patches.Wedge at 0x133d9a340>,\n",
       "  <matplotlib.patches.Wedge at 0x133d9a820>],\n",
       " [Text(0.08582913323248613, 1.096646415162408, 'White'),\n",
       "  Text(-0.9785131039544861, -0.5025058262242909, 'Hispanic'),\n",
       "  Text(0.009546176673021153, -1.0999585767250182, 'Asian'),\n",
       "  Text(0.7111208717243144, -0.8392300672628761, 'Multi-racial'),\n",
       "  Text(0.9666229106557898, -0.5250144270354189, 'Black'),\n",
       "  Text(1.078786144196332, -0.21498943018207003, 'No reply'),\n",
       "  Text(1.0997054477109092, -0.025454435270682196, 'Native American')])"
      ]
     },
     "execution_count": 3,
     "metadata": {},
     "output_type": "execute_result"
    },
    {
     "data": {
      "image/png": "[encoded data removed]",
      "text/plain": [
       "<Figure size 432x288 with 1 Axes>"
      ]
     },
     "metadata": {},
     "output_type": "display_data"
    }
   ],
   "source": [
    "entry_survey[\"race\"].value_counts()\n",
    "plt.pie(entry_survey[\"race\"].value_counts(), labels = ['White', 'Hispanic', 'Asian', 'Multi-racial', 'Black', 'No reply', 'Native American'])"
   ]
  },
  {
   "cell_type": "markdown",
   "id": "9b9ec5d3",
   "metadata": {},
   "source": [
    "Let's see if the story changes when we do the same thing to the literacy survey"
   ]
  },
  {
   "cell_type": "code",
   "execution_count": 4,
   "id": "2dd35503",
   "metadata": {},
   "outputs": [
    {
     "data": {
      "text/plain": [
       "([<matplotlib.patches.Wedge at 0x133e639d0>,\n",
       "  <matplotlib.patches.Wedge at 0x133e63eb0>,\n",
       "  <matplotlib.patches.Wedge at 0x133e713d0>,\n",
       "  <matplotlib.patches.Wedge at 0x133e718b0>,\n",
       "  <matplotlib.patches.Wedge at 0x133e71d90>,\n",
       "  <matplotlib.patches.Wedge at 0x133e7e2b0>,\n",
       "  <matplotlib.patches.Wedge at 0x133e7e790>],\n",
       " [Text(-0.23287432407041447, 1.0750672300785415, 'White'),\n",
       "  Text(-0.5683691798129096, -0.9417836670057518, 'Hispanic'),\n",
       "  Text(0.3358587469933428, -1.047472625927791, 'Asian'),\n",
       "  Text(0.7470724465859938, -0.8073925684275386, 'Multi-racial'),\n",
       "  Text(0.9877365256579603, -0.4841245251803938, 'Black'),\n",
       "  Text(1.088385819991432, -0.15942492540872766, 'No reply'),\n",
       "  Text(1.0999482917805952, -0.010665618076374868, 'Native American')])"
      ]
     },
     "execution_count": 4,
     "metadata": {},
     "output_type": "execute_result"
    },
    {
     "data": {
      "image/png": "[encoded data removed]",
      "text/plain": [
       "<Figure size 432x288 with 1 Axes>"
      ]
     },
     "metadata": {},
     "output_type": "display_data"
    }
   ],
   "source": [
    "literacy_survey[\"race\"].value_counts()\n",
    "plt.pie(literacy_survey[\"race\"].value_counts(), labels = ['White', 'Hispanic', 'Asian', 'Multi-racial', 'Black', 'No reply', 'Native American'])"
   ]
  },
  {
   "cell_type": "markdown",
   "id": "f90797b5",
   "metadata": {},
   "source": [
    "As we can see from these pie charts, it is actually the computing literacy courses that are more dominated by white students. We can take the computing literacy survey and the racial makeup of it to be representative of the ccm student body, since every student at ccm is required to take a computing literacy course. This means that when compared to the entire student body, the computing entry courses are actually more diverse and by extension the computing degrees are more diverse than the student body at CCM. Most notably, there are more asian students who are in the computing programs at ccm when compared to the entire student body."
   ]
  },
  {
   "cell_type": "markdown",
   "id": "609c69b5",
   "metadata": {},
   "source": [
    "2.) For the next insight, let's look at the interest levels of students in the computing literacy courses when compared to the course that they took."
   ]
  },
  {
   "cell_type": "code",
   "execution_count": 5,
   "id": "5718a1ea",
   "metadata": {},
   "outputs": [
    {
     "data": {
      "text/html": [
       "<div>\n",
       "<style scoped>\n",
       "    .dataframe tbody tr th:only-of-type {\n",
       "        vertical-align: middle;\n",
       "    }\n",
       "\n",
       "    .dataframe tbody tr th {\n",
       "        vertical-align: top;\n",
       "    }\n",
       "\n",
       "    .dataframe thead th {\n",
       "        text-align: right;\n",
       "    }\n",
       "</style>\n",
       "<table border=\"1\" class=\"dataframe\">\n",
       "  <thead>\n",
       "    <tr style=\"text-align: right;\">\n",
       "      <th></th>\n",
       "      <th>coursename</th>\n",
       "      <th>interest_level</th>\n",
       "    </tr>\n",
       "  </thead>\n",
       "  <tbody>\n",
       "    <tr>\n",
       "      <th>0</th>\n",
       "      <td>CMP 101</td>\n",
       "      <td>2.711864</td>\n",
       "    </tr>\n",
       "    <tr>\n",
       "      <th>1</th>\n",
       "      <td>CMP 126</td>\n",
       "      <td>2.503817</td>\n",
       "    </tr>\n",
       "    <tr>\n",
       "      <th>2</th>\n",
       "      <td>CMP 135</td>\n",
       "      <td>2.604478</td>\n",
       "    </tr>\n",
       "  </tbody>\n",
       "</table>\n",
       "</div>"
      ],
      "text/plain": [
       "  coursename  interest_level\n",
       "0    CMP 101        2.711864\n",
       "1    CMP 126        2.503817\n",
       "2    CMP 135        2.604478"
      ]
     },
     "execution_count": 5,
     "metadata": {},
     "output_type": "execute_result"
    }
   ],
   "source": [
    "#First group by coursename and aggregate by the mean interest level\n",
    "grouped_coursename = literacy_survey.groupby(\"coursename\").agg({'interest_level':'mean'}).reset_index()\n",
    "# For graph readability, rename the long coursenames to just their number codes\n",
    "grouped_coursename[\"coursename\"] = np.where(grouped_coursename[\"coursename\"].str.contains(\"101\"), \"CMP 101\", grouped_coursename[\"coursename\"])\n",
    "grouped_coursename[\"coursename\"] = np.where(grouped_coursename[\"coursename\"].str.contains(\"135\"), \"CMP 135\", grouped_coursename[\"coursename\"])\n",
    "grouped_coursename[\"coursename\"] = np.where(grouped_coursename[\"coursename\"].str.contains(\"126\"), \"CMP 126\", grouped_coursename[\"coursename\"])\n",
    "grouped_coursename.columns = ['coursename', 'interest_level']\n",
    "grouped_coursename"
   ]
  },
  {
   "cell_type": "code",
   "execution_count": 6,
   "id": "c7f70c26",
   "metadata": {},
   "outputs": [
    {
     "data": {
      "text/plain": [
       "Text(0, 0.5, 'Mean interest level')"
      ]
     },
     "execution_count": 6,
     "metadata": {},
     "output_type": "execute_result"
    },
    {
     "data": {
      "image/png": "[encoded data removed]",
      "text/plain": [
       "<Figure size 432x288 with 1 Axes>"
      ]
     },
     "metadata": {
      "needs_background": "light"
     },
     "output_type": "display_data"
    }
   ],
   "source": [
    "# Make a bar chart graphing mean interest level vs. coursename\n",
    "plt.bar(grouped_coursename[\"coursename\"],grouped_coursename['interest_level'])\n",
    "plt.xlabel(\"Course\")\n",
    "plt.ylabel('Mean interest level')"
   ]
  },
  {
   "cell_type": "markdown",
   "id": "40b9e5c7",
   "metadata": {},
   "source": [
    "As the bar graph demonstrates, CMP 101 Computer Information literacy is the class that generated the highest mean interest level, though not by much. What we learn from this is that all of these computing literacy courses only generate about a mean interest level of 2.5. Based on this, the department could take steps to make these courses more interesting to general students taking them. Unfortunately the data do not say why the students picked these interest levels, so that is about all we can say."
   ]
  },
  {
   "cell_type": "markdown",
   "id": "23a976c7",
   "metadata": {},
   "source": [
    "Is the IT website an effective form of outreach for students taking a computer literacy course? How about for students in a computing entry course?"
   ]
  },
  {
   "cell_type": "code",
   "execution_count": 7,
   "id": "f559e94e",
   "metadata": {},
   "outputs": [
    {
     "data": {
      "text/plain": [
       "([<matplotlib.patches.Wedge at 0x133f77670>,\n",
       "  <matplotlib.patches.Wedge at 0x133f77b50>,\n",
       "  <matplotlib.patches.Wedge at 0x133f85070>],\n",
       " [Text(-0.6738605836330974, 0.8694319489331305, 'No'),\n",
       "  Text(0.24328725304402898, -1.0727587391889617, 'Yes'),\n",
       "  Text(0.9969385560680448, -0.4648801086570193, 'Do not recall')])"
      ]
     },
     "execution_count": 7,
     "metadata": {},
     "output_type": "execute_result"
    },
    {
     "data": {
      "image/png": "[encoded data removed]",
      "text/plain": [
       "<Figure size 432x288 with 1 Axes>"
      ]
     },
     "metadata": {},
     "output_type": "display_data"
    }
   ],
   "source": [
    "# Graph the literacy heard_it_website\n",
    "plt.pie(literacy_survey[\"heard_it_website\"].value_counts(), labels = [\"No\", \"Yes\", \"Do not recall\"])"
   ]
  },
  {
   "cell_type": "code",
   "execution_count": 8,
   "id": "e64cce22",
   "metadata": {},
   "outputs": [
    {
     "data": {
      "text/plain": [
       "([<matplotlib.patches.Wedge at 0x133fc09a0>,\n",
       "  <matplotlib.patches.Wedge at 0x133fc0e80>,\n",
       "  <matplotlib.patches.Wedge at 0x133fcf3a0>],\n",
       " [Text(-0.04935141333170312, 1.0988923687068555, 'No'),\n",
       "  Text(-0.23601386444221384, -1.0743823601451452, 'Yes'),\n",
       "  Text(1.0627118007233904, -0.28397821853664923, 'Do not recall')])"
      ]
     },
     "execution_count": 8,
     "metadata": {},
     "output_type": "execute_result"
    },
    {
     "data": {
      "image/png": "[encoded data removed]",
      "text/plain": [
       "<Figure size 432x288 with 1 Axes>"
      ]
     },
     "metadata": {},
     "output_type": "display_data"
    }
   ],
   "source": [
    "# Graph the heard_it_website for the entry survey\n",
    "plt.pie(entry_survey[\"heard_it_website\"].value_counts(), labels = [\"No\", \"Yes\", \"Do not recall\"])"
   ]
  },
  {
   "cell_type": "markdown",
   "id": "83e077c1",
   "metadata": {},
   "source": [
    "As the charts show, the It website was more effective outreach for students in computing entry programs than it was for the computing literacy students. Based on this, the department should try and put the IT website in front of more students in the general population, which is represented by the computing literacy survey. It may be the case that putting this website in front of students in the computing literacy courses would help increase enrollment for these courses and maybe even increase their interest levels."
   ]
  },
  {
   "cell_type": "markdown",
   "id": "44f71e65",
   "metadata": {},
   "source": [
    "4.) For the final insight, let's look at the average computing interest by gender to see if there is a clear distinction."
   ]
  },
  {
   "cell_type": "code",
   "execution_count": 9,
   "id": "a692eac0",
   "metadata": {},
   "outputs": [
    {
     "data": {
      "text/html": [
       "<div>\n",
       "<style scoped>\n",
       "    .dataframe tbody tr th:only-of-type {\n",
       "        vertical-align: middle;\n",
       "    }\n",
       "\n",
       "    .dataframe tbody tr th {\n",
       "        vertical-align: top;\n",
       "    }\n",
       "\n",
       "    .dataframe thead th {\n",
       "        text-align: right;\n",
       "    }\n",
       "</style>\n",
       "<table border=\"1\" class=\"dataframe\">\n",
       "  <thead>\n",
       "    <tr style=\"text-align: right;\">\n",
       "      <th></th>\n",
       "      <th>gender</th>\n",
       "      <th>interest_level</th>\n",
       "    </tr>\n",
       "  </thead>\n",
       "  <tbody>\n",
       "    <tr>\n",
       "      <th>0</th>\n",
       "      <td>I do not identify</td>\n",
       "      <td>1.000000</td>\n",
       "    </tr>\n",
       "    <tr>\n",
       "      <th>1</th>\n",
       "      <td>Man</td>\n",
       "      <td>2.765217</td>\n",
       "    </tr>\n",
       "    <tr>\n",
       "      <th>2</th>\n",
       "      <td>Non-binary</td>\n",
       "      <td>2.000000</td>\n",
       "    </tr>\n",
       "    <tr>\n",
       "      <th>3</th>\n",
       "      <td>Prefer not to say</td>\n",
       "      <td>1.833333</td>\n",
       "    </tr>\n",
       "    <tr>\n",
       "      <th>4</th>\n",
       "      <td>Woman</td>\n",
       "      <td>2.517588</td>\n",
       "    </tr>\n",
       "  </tbody>\n",
       "</table>\n",
       "</div>"
      ],
      "text/plain": [
       "              gender  interest_level\n",
       "0  I do not identify        1.000000\n",
       "1                Man        2.765217\n",
       "2         Non-binary        2.000000\n",
       "3  Prefer not to say        1.833333\n",
       "4              Woman        2.517588"
      ]
     },
     "execution_count": 9,
     "metadata": {},
     "output_type": "execute_result"
    }
   ],
   "source": [
    "#Group the literacy survey by gender and the mean interest level\n",
    "grouped_gender_lit = literacy_survey.groupby(\"gender\").agg({'interest_level':'mean'}).reset_index()\n",
    "grouped_gender_lit"
   ]
  },
  {
   "cell_type": "code",
   "execution_count": 10,
   "id": "c3c4b061",
   "metadata": {},
   "outputs": [
    {
     "data": {
      "text/html": [
       "<div>\n",
       "<style scoped>\n",
       "    .dataframe tbody tr th:only-of-type {\n",
       "        vertical-align: middle;\n",
       "    }\n",
       "\n",
       "    .dataframe tbody tr th {\n",
       "        vertical-align: top;\n",
       "    }\n",
       "\n",
       "    .dataframe thead th {\n",
       "        text-align: right;\n",
       "    }\n",
       "</style>\n",
       "<table border=\"1\" class=\"dataframe\">\n",
       "  <thead>\n",
       "    <tr style=\"text-align: right;\">\n",
       "      <th></th>\n",
       "      <th>gender</th>\n",
       "      <th>interest_level</th>\n",
       "    </tr>\n",
       "  </thead>\n",
       "  <tbody>\n",
       "    <tr>\n",
       "      <th>0</th>\n",
       "      <td>I do not identify</td>\n",
       "      <td>3.000000</td>\n",
       "    </tr>\n",
       "    <tr>\n",
       "      <th>1</th>\n",
       "      <td>Man</td>\n",
       "      <td>3.547170</td>\n",
       "    </tr>\n",
       "    <tr>\n",
       "      <th>2</th>\n",
       "      <td>Non-binary</td>\n",
       "      <td>NaN</td>\n",
       "    </tr>\n",
       "    <tr>\n",
       "      <th>3</th>\n",
       "      <td>Prefer not to say</td>\n",
       "      <td>3.333333</td>\n",
       "    </tr>\n",
       "    <tr>\n",
       "      <th>4</th>\n",
       "      <td>Woman</td>\n",
       "      <td>3.437500</td>\n",
       "    </tr>\n",
       "  </tbody>\n",
       "</table>\n",
       "</div>"
      ],
      "text/plain": [
       "              gender  interest_level\n",
       "0  I do not identify        3.000000\n",
       "1                Man        3.547170\n",
       "2         Non-binary             NaN\n",
       "3  Prefer not to say        3.333333\n",
       "4              Woman        3.437500"
      ]
     },
     "execution_count": 10,
     "metadata": {},
     "output_type": "execute_result"
    }
   ],
   "source": [
    "# Group the entry survey by gender and the mean interest level\n",
    "grouped_gender_entry = entry_survey.groupby(\"gender\").agg({'interest_level':'mean'}).reset_index()\n",
    "grouped_gender_entry"
   ]
  },
  {
   "cell_type": "code",
   "execution_count": 18,
   "id": "b043d093",
   "metadata": {},
   "outputs": [
    {
     "data": {
      "text/plain": [
       "Text(0.5, 1.0, 'Mean Interest Level does not differ much between men and women')"
      ]
     },
     "execution_count": 18,
     "metadata": {},
     "output_type": "execute_result"
    },
    {
     "data": {
      "image/png": "[encoded data removed]",
      "text/plain": [
       "<Figure size 432x288 with 1 Axes>"
      ]
     },
     "metadata": {
      "needs_background": "light"
     },
     "output_type": "display_data"
    }
   ],
   "source": [
    "# Graph interest level against gender\n",
    "plt.barh(grouped_gender_lit[\"gender\"], grouped_gender_lit[\"interest_level\"], color = ['blue', 'red', 'blue', 'blue', 'red' ])\n",
    "plt.xlabel('Mean Interest Level')\n",
    "plt.ylabel('Gender')\n",
    "plt.title('Mean Interest Level does not differ much between men and women')"
   ]
  },
  {
   "cell_type": "code",
   "execution_count": null,
   "id": "15cbb768",
   "metadata": {},
   "outputs": [],
   "source": []
  },
  {
   "cell_type": "code",
   "execution_count": 19,
   "id": "01e8bf75",
   "metadata": {},
   "outputs": [
    {
     "data": {
      "text/plain": [
       "Text(0.5, 1.0, 'Mean Interest Level does not differ much between men and women')"
      ]
     },
     "execution_count": 19,
     "metadata": {},
     "output_type": "execute_result"
    },
    {
     "data": {
      "image/png": "[encoded data removed]",
      "text/plain": [
       "<Figure size 432x288 with 1 Axes>"
      ]
     },
     "metadata": {
      "needs_background": "light"
     },
     "output_type": "display_data"
    }
   ],
   "source": [
    "# Graph interest level against gender\n",
    "plt.barh(grouped_gender_entry[\"gender\"], grouped_gender_entry[\"interest_level\"], color = ['blue', 'red', 'blue', 'blue', 'red' ])\n",
    "plt.xlabel('Mean Interest Level')\n",
    "plt.ylabel('Gender')\n",
    "plt.title('Mean Interest Level does not differ much between men and women')"
   ]
  },
  {
   "cell_type": "markdown",
   "id": "dbe38e38",
   "metadata": {},
   "source": [
    "As these graphs show, the mean interest level between men and women is about the same for both the computing entry survey and the computing literacy survey. From this we can deduce that the department has done a good job appealing to both male and female students and keeping them interested. Another key takeaway is that all of the mean interest levels were a good bit higher for students in entry classes when compared to those in literacy classes. This again shows that the department should focus on making literacy courses more interesting to students in them."
   ]
  }
 ],
 "metadata": {
  "kernelspec": {
   "display_name": "Python 3.9.12 ('base')",
   "language": "python",
   "name": "python3"
  },
  "language_info": {
   "codemirror_mode": {
    "name": "ipython",
    "version": 3
   },
   "file_extension": ".py",
   "mimetype": "text/x-python",
   "name": "python",
   "nbconvert_exporter": "python",
   "pygments_lexer": "ipython3",
   "version": "3.9.12"
  },
  "vscode": {
   "interpreter": {
    "hash": "603ac933c9b8c3cd25ca2487d81a9e556152ec897f3e62a36bf2840e0c6f8fab"
   }
  }
 },
 "nbformat": 4,
 "nbformat_minor": 5
}
